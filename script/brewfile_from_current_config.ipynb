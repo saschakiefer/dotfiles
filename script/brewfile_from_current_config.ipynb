{
 "nbformat": 4,
 "nbformat_minor": 2,
 "metadata": {
  "language_info": {
   "name": "python",
   "codemirror_mode": {
    "name": "ipython",
    "version": 3
   },
   "version": "3.8.1-final"
  },
  "orig_nbformat": 2,
  "file_extension": ".py",
  "mimetype": "text/x-python",
  "name": "python",
  "npconvert_exporter": "python",
  "pygments_lexer": "ipython3",
  "version": 3,
  "kernelspec": {
   "name": "python38164bit45407ce8928e4a96a749eb294b1d1172",
   "display_name": "Python 3.8.1 64-bit"
  }
 },
 "cells": [
  {
   "cell_type": "markdown",
   "execution_count": 1,
   "metadata": {},
   "outputs": [
    {
     "ename": "SyntaxError",
     "evalue": "invalid syntax (<ipython-input-1-448f83b3439a>, line 1)",
     "output_type": "error",
     "traceback": [
      "\u001b[0;36m  File \u001b[0;32m\"<ipython-input-1-448f83b3439a>\"\u001b[0;36m, line \u001b[0;32m1\u001b[0m\n\u001b[0;31m    Small script to create the ```../Brewfile``` from the current system coinfiguration\u001b[0m\n\u001b[0m          ^\u001b[0m\n\u001b[0;31mSyntaxError\u001b[0m\u001b[0;31m:\u001b[0m invalid syntax\n"
     ]
    }
   ],
   "source": [
    "Small script to create the ```../Brewfile``` from the current system coinfiguration\n",
    "\n",
    "No new file is generated but print to the notebook to manually be able to copy only what is relevant"
   ]
  },
  {
   "cell_type": "code",
   "execution_count": 1,
   "metadata": {},
   "outputs": [],
   "source": [
    "import os"
   ]
  },
  {
   "cell_type": "code",
   "execution_count": 2,
   "metadata": {},
   "outputs": [
    {
     "name": "stdout",
     "output_type": "stream",
     "text": "tap \"caskroom/cask\"\ntap \"caskroom/fonts\"\ntap \"cloudfoundry/tap\"\ntap \"github/bootstrap\"\ntap \"heroku/brew\"\ntap \"homebrew/bundle\"\ntap \"homebrew/cask\"\ntap \"homebrew/cask-fonts\"\ntap \"homebrew/cask-versions\"\ntap \"homebrew/core\"\ntap \"homebrew/formula-analytics\"\ntap \"homebrew/services\"\ntap \"homebrew/test-bot\"\ntap \"jiritrecak/laurine\"\ntap \"sambadevi/powerlevel9k\"\ntap \"vapor/tap\"\n"
    }
   ],
   "source": [
    "# Read the taps\n",
    "stream = os.popen('brew tap')\n",
    "taps = stream.read().split('\\n')\n",
    "taps = taps[0:len(taps)-1]\n",
    "for tap in taps:\n",
    "    print ('tap \"' + tap + '\"')"
   ]
  },
  {
   "cell_type": "code",
   "execution_count": 3,
   "metadata": {},
   "outputs": [
    {
     "name": "stdout",
     "output_type": "stream",
     "text": "brew \"aom\"\nbrew \"augeas\"\nbrew \"autoconf\"\nbrew \"aws-elasticbeanstalk\"\nbrew \"awscli\"\nbrew \"cairo\"\nbrew \"certbot\"\nbrew \"cf-cli\"\nbrew \"dialog\"\nbrew \"ffmpeg\"\nbrew \"flac\"\nbrew \"fontconfig\"\nbrew \"freetype\"\nbrew \"frei0r\"\nbrew \"fribidi\"\nbrew \"gdbm\"\nbrew \"geos\"\nbrew \"gettext\"\nbrew \"giflib\"\nbrew \"git\"\nbrew \"git-imerge\"\nbrew \"git-when-merged\"\nbrew \"glib\"\nbrew \"gmp\"\nbrew \"gnutls\"\nbrew \"graphite2\"\nbrew \"harfbuzz\"\nbrew \"icu4c\"\nbrew \"ilmbase\"\nbrew \"imagemagick\"\nbrew \"jpeg\"\nbrew \"jq\"\nbrew \"lame\"\nbrew \"leptonica\"\nbrew \"libass\"\nbrew \"libbluray\"\nbrew \"libde265\"\nbrew \"libevent\"\nbrew \"libffi\"\nbrew \"libheif\"\nbrew \"libidn2\"\nbrew \"libogg\"\nbrew \"libomp\"\nbrew \"libpng\"\nbrew \"libsamplerate\"\nbrew \"libsndfile\"\nbrew \"libsoxr\"\nbrew \"libtasn1\"\nbrew \"libtiff\"\nbrew \"libtool\"\nbrew \"libunistring\"\nbrew \"libvidstab\"\nbrew \"libvorbis\"\nbrew \"libvpx\"\nbrew \"little-cms2\"\nbrew \"lzo\"\nbrew \"mas\"\nbrew \"mongodb\"\nbrew \"ncurses\"\nbrew \"neofetch\"\nbrew \"nettle\"\nbrew \"node\"\nbrew \"node-build\"\nbrew \"nodenv\"\nbrew \"oniguruma\"\nbrew \"opencore-amr\"\nbrew \"openexr\"\nbrew \"openjpeg\"\nbrew \"openssl\"\nbrew \"openssl@1.1\"\nbrew \"opus\"\nbrew \"p11-kit\"\nbrew \"pcre\"\nbrew \"pcre2\"\nbrew \"pixman\"\nbrew \"pkg-config\"\nbrew \"powerlevel9k\"\nbrew \"python\"\nbrew \"python@2\"\nbrew \"python@3.8\"\nbrew \"readline\"\nbrew \"rtmpdump\"\nbrew \"rubberband\"\nbrew \"screenresolution\"\nbrew \"sdl2\"\nbrew \"shared-mime-info\"\nbrew \"snappy\"\nbrew \"speex\"\nbrew \"sqlite\"\nbrew \"swig\"\nbrew \"tesseract\"\nbrew \"theora\"\nbrew \"unbound\"\nbrew \"webp\"\nbrew \"wget\"\nbrew \"x264\"\nbrew \"x265\"\nbrew \"xvid\"\nbrew \"xz\"\nbrew \"yarn\"\nbrew \"zsh\"\nbrew \"zsh-syntax-highlighting\"\n"
    }
   ],
   "source": [
    "# Read the brews\n",
    "stream = os.popen('brew list')\n",
    "brews = stream.read().split('\\n')\n",
    "brews = brews[0:len(brews)-1]\n",
    "for brew in brews:\n",
    "    print ('brew \"' + brew + '\"')"
   ]
  },
  {
   "cell_type": "code",
   "execution_count": 4,
   "metadata": {},
   "outputs": [
    {
     "name": "stdout",
     "output_type": "stream",
     "text": "cask \"1password-cli\"\ncask \"bartender\"\ncask \"charles\"\ncask \"cyberduck\"\ncask \"devonthink-pro\"\ncask \"docker\"\ncask \"dropbox\"\ncask \"evernote\"\ncask \"firefox\"\ncask \"font-meslo-nerd-font\"\ncask \"google-chrome\"\ncask \"java\"\ncask \"java8\"\ncask \"little-snitch\"\ncask \"omnifocus\"\ncask \"omnigraffle\"\ncask \"skype\"\ncask \"typinator\"\ncask \"vscodium\"\n"
    }
   ],
   "source": [
    "# Read the casks\n",
    "stream = os.popen('brew cask list')\n",
    "casks = stream.read().split('\\n')\n",
    "casks = casks[0:len(casks)-1]\n",
    "for cask in casks:\n",
    "    print ('cask \"' + cask + '\"')"
   ]
  },
  {
   "cell_type": "code",
   "execution_count": 5,
   "metadata": {},
   "outputs": [
    {
     "name": "stdout",
     "output_type": "stream",
     "text": "mas \"BaseCamp\", id: 411052274\nmas \"iThoughtsX\", id: 720669838\nmas \"Things\", id: 904280696\nmas \"Drafts\", id: 1435957248\nmas \"Evernote\", id: 406056744\nmas \"Keynote\", id: 409183694\nmas \"Kindle\", id: 405399194\nmas \"iA Writer\", id: 775737590\nmas \"Magnet\", id: 441258766\nmas \"Ghostery Lite\", id: 1436953057\nmas \"1Password 7\", id: 1333542190\nmas \"The Unarchiver\", id: 425424353\nmas \"Marked 2\", id: 890031187\nmas \"Numbers\", id: 409203825\nmas \"WhatsApp\", id: 1147396723\nmas \"Xcode\", id: 497799835\nmas \"Pages\", id: 409201541\nmas \"AdBlock\", id: 1402042596\nmas \"iMovie\", id: 408981434\nmas \"Apple Configurator 2\", id: 1037126344\nmas \"AudioBookBinder\", id: 413969927\nmas \"StarMoney\", id: 1237596145\nmas \"Logic Pro X\", id: 634148309\n"
    }
   ],
   "source": [
    "# Read the brews\n",
    "stream = os.popen('mas list')\n",
    "mass = stream.read().split('\\n')\n",
    "mass = mass[0:len(mass)-1]\n",
    "for mas in mass:\n",
    "    print ('mas \"' + mas[mas.find(' ') + 1:mas.rfind('(')-1] + '\", id: ' + mas[:mas.find(' ')])"
   ]
  },
  {
   "cell_type": "code",
   "execution_count": null,
   "metadata": {},
   "outputs": [],
   "source": []
  }
 ]
}